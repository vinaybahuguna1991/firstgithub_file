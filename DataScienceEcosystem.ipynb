{
  "metadata": {
    "language_info": {
      "codemirror_mode": {
        "name": "python",
        "version": 3
      },
      "file_extension": ".py",
      "mimetype": "text/x-python",
      "name": "python",
      "nbconvert_exporter": "python",
      "pygments_lexer": "ipython3",
      "version": "3.8"
    },
    "kernelspec": {
      "name": "python",
      "display_name": "Python (Pyodide)",
      "language": "python"
    }
  },
  "nbformat_minor": 4,
  "nbformat": 4,
  "cells": [
    {
      "cell_type": "markdown",
      "source": "Exercise 1: Create a Jupyter Notebook\n\nCreated a jupyternotebook named as DataScienceEcosystem.ipynb",
      "metadata": {}
    },
    {
      "cell_type": "markdown",
      "source": "Exercise 2 - Create a markdown cell with the title of the notebook.\n\n# Data Science Tools and Ecosystem",
      "metadata": {}
    },
    {
      "cell_type": "markdown",
      "source": "Exercise 3 - Create a markdown cell for an introduction.<br>\nIn this notebook, Data Science Tools and Ecosystem are summarized.",
      "metadata": {}
    },
    {
      "cell_type": "markdown",
      "source": "Exercise 10 -Insert a markdown cell to list Objectives.<br>\n**Objectives:**\n* Open source tools in data science\n* Cloud based tools in data science\n* Commercial  tools in data science\n* Python and R\n* Git and Github\n",
      "metadata": {}
    },
    {
      "cell_type": "markdown",
      "source": "Exercise 4 - Create a markdown cell to list data science languages.<br>\nSome of the popular languages that Data Scientists use are:\n1. Python\n2. Scala\n3. R\n4. Julia",
      "metadata": {}
    },
    {
      "cell_type": "markdown",
      "source": "Exercise 5 - Create a markdown cell to list data science libraries.<br>\nSome of the commonly used libraries used by Data Scientists include:\n1. Pandas\n2. Numpy\n3. Matplotlib",
      "metadata": {}
    },
    {
      "cell_type": "markdown",
      "source": "Exercise 6 - Create a markdown cell with a table of Data Science tools.<br>\n|Data Science Tools|\n|-|\n|Rstudio|\n|Apache Hadoop|\n|Apache Spark|\n",
      "metadata": {}
    },
    {
      "cell_type": "markdown",
      "source": "Exercise 7 - Create a markdown cell introducing arithmetic expression examples.<br>\n### Below are a few examples of evaluating arithmetic expressions in Python<br>\nAddition<br>\n2+3=5<br>\nSubstraction<br>\n3-1=2",
      "metadata": {}
    },
    {
      "cell_type": "markdown",
      "source": "Exercise 8 - Create a code cell to multiply and add numbers.",
      "metadata": {}
    },
    {
      "cell_type": "code",
      "source": "# This a simple arithmetic expression to mutiply then add integers\n(3*4)+5",
      "metadata": {
        "trusted": true
      },
      "execution_count": 12,
      "outputs": [
        {
          "execution_count": 12,
          "output_type": "execute_result",
          "data": {
            "text/plain": "17"
          },
          "metadata": {}
        }
      ]
    },
    {
      "cell_type": "markdown",
      "source": "Exercise 9 - Create a code cell to convert minutes to hours.",
      "metadata": {}
    },
    {
      "cell_type": "code",
      "source": "# This will convert 200 minutes to hours by diving by 60\n200/60 ",
      "metadata": {
        "trusted": true
      },
      "execution_count": 14,
      "outputs": [
        {
          "execution_count": 14,
          "output_type": "execute_result",
          "data": {
            "text/plain": "3.3333333333333335"
          },
          "metadata": {}
        }
      ]
    },
    {
      "cell_type": "markdown",
      "source": "Exercise 11 - Create a markdown cell to indicate the Author’s name.<br>\n## Author\nVinay Bahuguna",
      "metadata": {}
    },
    {
      "cell_type": "code",
      "source": "",
      "metadata": {},
      "execution_count": null,
      "outputs": []
    }
  ]
}